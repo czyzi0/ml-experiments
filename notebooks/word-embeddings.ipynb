{
 "cells": [
  {
   "cell_type": "code",
   "execution_count": 1,
   "metadata": {},
   "outputs": [],
   "source": [
    "import re\n",
    "import time\n",
    "\n",
    "import torchtext"
   ]
  },
  {
   "cell_type": "code",
   "execution_count": 2,
   "metadata": {},
   "outputs": [],
   "source": [
    "def preprocess(text):\n",
    "    return re.sub(r'[!\"#$%&\\'()*+,\\-./:;=?@[\\\\\\]^_`{|}~0-9]', '', text)"
   ]
  },
  {
   "cell_type": "code",
   "execution_count": 3,
   "metadata": {},
   "outputs": [],
   "source": [
    "TEXT = torchtext.data.Field(\n",
    "    sequential=True,\n",
    "    lower=True, preprocessing=torchtext.data.Pipeline(preprocess), stop_words=[''])"
   ]
  },
  {
   "cell_type": "code",
   "execution_count": 4,
   "metadata": {},
   "outputs": [
    {
     "name": "stdout",
     "output_type": "stream",
     "text": [
      "Loaded data in 202.2s\n"
     ]
    }
   ],
   "source": [
    "start = time.time()\n",
    "train_set, = torchtext.datasets.WikiText103.splits(\n",
    "    TEXT, root='../data/wikitext-103', validation=None, test=None)\n",
    "print(f'Loaded data in {time.time() - start:.1f}s')"
   ]
  },
  {
   "cell_type": "code",
   "execution_count": 5,
   "metadata": {
    "scrolled": true
   },
   "outputs": [
    {
     "name": "stdout",
     "output_type": "stream",
     "text": [
      "85620355\n",
      "['<eos>', 'valkyria', 'chronicles', 'iii', '<eos>', '<eos>', 'senjō', 'no', 'valkyria', '<unk>', 'chronicles', 'japanese', '戦場のヴァルキュリア', 'lit', 'valkyria', 'of', 'the', 'battlefield', 'commonly', 'referred', 'to', 'as', 'valkyria', 'chronicles', 'iii', 'outside', 'japan', 'is', 'a', 'tactical', 'role', 'playing', 'video', 'game', 'developed', 'by', 'sega', 'and', 'mediavision', 'for', 'the', 'playstation', 'portable', 'released', 'in', 'january', 'in', 'japan', 'it', 'is', 'the', 'third', 'game', 'in', 'the', 'valkyria', 'series', 'employing', 'the', 'same', 'fusion', 'of', 'tactical', 'and', 'real', 'time', 'gameplay', 'as', 'its', 'predecessors', 'the', 'story', 'runs', 'parallel', 'to', 'the', 'first', 'game', 'and', 'follows', 'the', 'nameless', 'a', 'penal', 'military', 'unit', 'serving', 'the', 'nation', 'of', 'gallia', 'during', 'the', 'second', 'europan', 'war', 'who', 'perform', 'secret', 'black']\n"
     ]
    }
   ],
   "source": [
    "print(len(train_set[0].text))\n",
    "print(train_set[0].text[:100])"
   ]
  },
  {
   "cell_type": "code",
   "execution_count": 6,
   "metadata": {},
   "outputs": [],
   "source": [
    "TEXT.build_vocab(train_set, min_freq=10)#, max_size=60000)"
   ]
  },
  {
   "cell_type": "code",
   "execution_count": 7,
   "metadata": {},
   "outputs": [
    {
     "name": "stdout",
     "output_type": "stream",
     "text": [
      "Created vocab with length: 111305\n",
      " - index of \"queen\": 822\n",
      " - index of \"king\": 214\n",
      " - index of \"2011\": 0\n",
      " - index of \"戦場のヴァルキュリア3\": 0\n",
      " - index of \"<eos>\": 7\n",
      " - index of \"valkyria\": 43910\n",
      " - index of \"chronicles\": 6770\n",
      " - index of \"iii\": 1098\n",
      " - word with index \"0\": <unk>\n",
      " - word with index \"1\": <pad>\n",
      " - word with index \"2\": the\n",
      " - word with index \"15\": with\n"
     ]
    }
   ],
   "source": [
    "print(f'Created vocab with length: {len(TEXT.vocab)}')\n",
    "for word in ['queen', 'king', '2011', '戦場のヴァルキュリア3', '<eos>', 'valkyria', 'chronicles', 'iii']:\n",
    "    print(f' - index of \"{word}\": {TEXT.vocab.stoi[word]}')\n",
    "for i in [0, 1, 2, 15]:\n",
    "    print(f' - word with index \"{i}\": {TEXT.vocab.itos[i]}')"
   ]
  },
  {
   "cell_type": "code",
   "execution_count": 8,
   "metadata": {},
   "outputs": [
    {
     "name": "stdout",
     "output_type": "stream",
     "text": [
      "['__class__', '__delattr__', '__dict__', '__dir__', '__doc__', '__eq__', '__format__', '__ge__', '__getattribute__', '__gt__', '__hash__', '__init__', '__init_subclass__', '__le__', '__lt__', '__module__', '__ne__', '__new__', '__reduce__', '__reduce_ex__', '__repr__', '__setattr__', '__sizeof__', '__str__', '__subclasshook__', '__weakref__', 'batch_first', 'build_vocab', 'dtype', 'dtypes', 'eos_token', 'fix_length', 'include_lengths', 'init_token', 'is_target', 'lower', 'numericalize', 'pad', 'pad_first', 'pad_token', 'postprocessing', 'preprocess', 'preprocessing', 'process', 'sequential', 'stop_words', 'tokenize', 'truncate_first', 'unk_token', 'use_vocab', 'vocab', 'vocab_cls']\n"
     ]
    }
   ],
   "source": [
    "print(dir(TEXT))"
   ]
  },
  {
   "cell_type": "code",
   "execution_count": 9,
   "metadata": {},
   "outputs": [
    {
     "name": "stdout",
     "output_type": "stream",
     "text": [
      "['<eos>', 'valkyria', 'chronicles', 'iii']\n",
      "torch.Size([4, 1])\n",
      "tensor([[    7],\n",
      "        [43910],\n",
      "        [ 6770],\n",
      "        [ 1098]])\n"
     ]
    }
   ],
   "source": [
    "x1 = train_set[0].text[:4]\n",
    "print(x1)\n",
    "x2 = TEXT.process([x1])\n",
    "print(x2.size())\n",
    "print(x2)\n",
    "# print(x1 == x2)"
   ]
  }
 ],
 "metadata": {
  "kernelspec": {
   "display_name": "Python 3",
   "language": "python",
   "name": "python3"
  },
  "language_info": {
   "codemirror_mode": {
    "name": "ipython",
    "version": 3
   },
   "file_extension": ".py",
   "mimetype": "text/x-python",
   "name": "python",
   "nbconvert_exporter": "python",
   "pygments_lexer": "ipython3",
   "version": "3.7.3"
  }
 },
 "nbformat": 4,
 "nbformat_minor": 2
}
