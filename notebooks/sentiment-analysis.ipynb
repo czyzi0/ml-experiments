{
 "cells": [
  {
   "cell_type": "markdown",
   "metadata": {},
   "source": [
    "# Sentiment analysis"
   ]
  },
  {
   "cell_type": "code",
   "execution_count": 1,
   "metadata": {},
   "outputs": [],
   "source": [
    "import time\n",
    "\n",
    "import numpy as np\n",
    "import torchtext\n",
    "from sklearn.ensemble import RandomForestClassifier\n",
    "from sklearn.feature_extraction.text import CountVectorizer\n",
    "from sklearn.metrics import accuracy_score\n",
    "from sklearn.model_selection import train_test_split"
   ]
  },
  {
   "cell_type": "code",
   "execution_count": 2,
   "metadata": {},
   "outputs": [],
   "source": [
    "train_data, test_data = torchtext.datasets.IMDB.splits(\n",
    "    torchtext.data.Field(tokenize=lambda s: s),\n",
    "    torchtext.data.Field(tokenize=lambda s: s),\n",
    "    root='../data/imdb')\n",
    "\n",
    "train_texts, val_texts, train_y, val_y = train_test_split(\n",
    "    [s.text for s in train_data],\n",
    "    np.array([1 if s.label == 'pos' else 0 for s in train_data]),\n",
    "    test_size=0.1)\n",
    "\n",
    "test_texts = [s.text for s in test_data]\n",
    "test_y = np.array([1 if s.label == 'pos' else 0 for s in test_data])"
   ]
  },
  {
   "cell_type": "code",
   "execution_count": 3,
   "metadata": {},
   "outputs": [
    {
     "data": {
      "text/plain": [
       "(22500, 2500, 25000)"
      ]
     },
     "execution_count": 3,
     "metadata": {},
     "output_type": "execute_result"
    }
   ],
   "source": [
    "len(train_texts), len(val_texts), len(test_texts)"
   ]
  },
  {
   "cell_type": "code",
   "execution_count": 4,
   "metadata": {},
   "outputs": [
    {
     "data": {
      "text/plain": [
       "((22500,), (2500,), (25000,))"
      ]
     },
     "execution_count": 4,
     "metadata": {},
     "output_type": "execute_result"
    }
   ],
   "source": [
    "train_y.shape, val_y.shape, test_y.shape"
   ]
  },
  {
   "cell_type": "code",
   "execution_count": 5,
   "metadata": {},
   "outputs": [
    {
     "data": {
      "text/plain": [
       "(array([1, 0, 1, ..., 0, 0, 0]),\n",
       " array([1, 1, 1, ..., 1, 0, 0]),\n",
       " array([1, 1, 1, ..., 0, 0, 0]))"
      ]
     },
     "execution_count": 5,
     "metadata": {},
     "output_type": "execute_result"
    }
   ],
   "source": [
    "train_y, val_y, test_y"
   ]
  },
  {
   "cell_type": "code",
   "execution_count": 6,
   "metadata": {},
   "outputs": [
    {
     "data": {
      "text/plain": [
       "((array([0, 1]), array([11235, 11265])),\n",
       " (array([0, 1]), array([1265, 1235])),\n",
       " (array([0, 1]), array([12500, 12500])))"
      ]
     },
     "execution_count": 6,
     "metadata": {},
     "output_type": "execute_result"
    }
   ],
   "source": [
    "np.unique(train_y, return_counts=True), np.unique(val_y, return_counts=True), np.unique(test_y, return_counts=True)"
   ]
  },
  {
   "cell_type": "code",
   "execution_count": 7,
   "metadata": {},
   "outputs": [],
   "source": [
    "class SKLearnClassifier:\n",
    "\n",
    "    def __init__(self, model):\n",
    "        self.model = model\n",
    "        self.vectorizer = CountVectorizer(strip_accents='ascii', lowercase=True)\n",
    "\n",
    "    def fit(self, train_texts, train_y):\n",
    "        start = time.time()\n",
    "        train_x = self.vectorizer.fit_transform(train_texts)\n",
    "        print(train_x.shape)\n",
    "        self.model.fit(train_x, train_y)\n",
    "        print(f'Finished training in {time.time() - start:.2f}s')\n",
    "\n",
    "    def predict(self, texts):\n",
    "        x = self.vectorizer.transform(texts)\n",
    "        return self.model.predict(x)"
   ]
  },
  {
   "cell_type": "code",
   "execution_count": 8,
   "metadata": {},
   "outputs": [
    {
     "name": "stdout",
     "output_type": "stream",
     "text": [
      "(22500, 71742)\n",
      "Finished training in 4.82s\n",
      "0.9547555555555556\n",
      "0.84948\n"
     ]
    }
   ],
   "source": [
    "model = SKLearnClassifier(\n",
    "    RandomForestClassifier(n_estimators=150, max_depth=25, n_jobs=-1))\n",
    "model.fit(train_texts, train_y)\n",
    "\n",
    "train_preds = model.predict(train_texts)\n",
    "print(accuracy_score(train_y, train_preds))\n",
    "\n",
    "test_preds = model.predict(test_texts)\n",
    "print(accuracy_score(test_y, test_preds))"
   ]
  }
 ],
 "metadata": {
  "kernelspec": {
   "display_name": "Python 3",
   "language": "python",
   "name": "python3"
  },
  "language_info": {
   "codemirror_mode": {
    "name": "ipython",
    "version": 3
   },
   "file_extension": ".py",
   "mimetype": "text/x-python",
   "name": "python",
   "nbconvert_exporter": "python",
   "pygments_lexer": "ipython3",
   "version": "3.7.3"
  }
 },
 "nbformat": 4,
 "nbformat_minor": 2
}
