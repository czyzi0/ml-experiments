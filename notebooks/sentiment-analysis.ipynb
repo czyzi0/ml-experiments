{
 "cells": [
  {
   "cell_type": "markdown",
   "metadata": {},
   "source": [
    "# Sentiment analysis"
   ]
  },
  {
   "cell_type": "code",
   "execution_count": 1,
   "metadata": {},
   "outputs": [],
   "source": [
    "import re\n",
    "import time\n",
    "from collections import OrderedDict\n",
    "\n",
    "import numpy as np\n",
    "import torchtext\n",
    "from IPython.display import display\n",
    "from matplotlib import pyplot as plt\n",
    "from pandas import DataFrame\n",
    "from sklearn.ensemble import RandomForestClassifier\n",
    "from sklearn.feature_extraction.text import CountVectorizer\n",
    "from sklearn.metrics import accuracy_score\n",
    "from sklearn.model_selection import train_test_split"
   ]
  },
  {
   "cell_type": "code",
   "execution_count": 2,
   "metadata": {},
   "outputs": [],
   "source": [
    "labels = ['neg', 'pos']"
   ]
  },
  {
   "cell_type": "code",
   "execution_count": 3,
   "metadata": {},
   "outputs": [],
   "source": [
    "def clean_text(text):\n",
    "    text = re.sub(r'<br />', ' ', text)\n",
    "    text = re.sub(r'\\s+', ' ', text)\n",
    "    return text"
   ]
  },
  {
   "cell_type": "code",
   "execution_count": 4,
   "metadata": {},
   "outputs": [],
   "source": [
    "train_data, test_data = torchtext.datasets.IMDB.splits(\n",
    "    torchtext.data.Field(tokenize=lambda s: s),\n",
    "    torchtext.data.Field(tokenize=lambda s: s),\n",
    "    root='../data/imdb')\n",
    "\n",
    "train_texts, val_texts, train_y, val_y = train_test_split(\n",
    "    [clean_text(s.text) for s in train_data],\n",
    "    np.array([labels.index(s.label) for s in train_data]),\n",
    "    test_size=0.1, random_state=1234)\n",
    "\n",
    "test_texts = [clean_text(s.text) for s in test_data]\n",
    "test_y = np.array([labels.index(s.label) for s in test_data])"
   ]
  },
  {
   "cell_type": "code",
   "execution_count": 5,
   "metadata": {},
   "outputs": [
    {
     "data": {
      "text/html": [
       "<div>\n",
       "<style scoped>\n",
       "    .dataframe tbody tr th:only-of-type {\n",
       "        vertical-align: middle;\n",
       "    }\n",
       "\n",
       "    .dataframe tbody tr th {\n",
       "        vertical-align: top;\n",
       "    }\n",
       "\n",
       "    .dataframe thead th {\n",
       "        text-align: right;\n",
       "    }\n",
       "</style>\n",
       "<table border=\"1\" class=\"dataframe\">\n",
       "  <thead>\n",
       "    <tr style=\"text-align: right;\">\n",
       "      <th></th>\n",
       "      <th>neg</th>\n",
       "      <th>pos</th>\n",
       "      <th>total</th>\n",
       "    </tr>\n",
       "  </thead>\n",
       "  <tbody>\n",
       "    <tr>\n",
       "      <th>training set</th>\n",
       "      <td>11208</td>\n",
       "      <td>11292</td>\n",
       "      <td>22500</td>\n",
       "    </tr>\n",
       "    <tr>\n",
       "      <th>validation set</th>\n",
       "      <td>1292</td>\n",
       "      <td>1208</td>\n",
       "      <td>2500</td>\n",
       "    </tr>\n",
       "    <tr>\n",
       "      <th>test set</th>\n",
       "      <td>12500</td>\n",
       "      <td>12500</td>\n",
       "      <td>25000</td>\n",
       "    </tr>\n",
       "  </tbody>\n",
       "</table>\n",
       "</div>"
      ],
      "text/plain": [
       "                  neg    pos  total\n",
       "training set    11208  11292  22500\n",
       "validation set   1292   1208   2500\n",
       "test set        12500  12500  25000"
      ]
     },
     "metadata": {},
     "output_type": "display_data"
    }
   ],
   "source": [
    "data = OrderedDict()\n",
    "for name, y in (('training', train_y), ('validation', val_y), ('test', test_y)):\n",
    "    _, counts = np.unique(y, return_counts=True)\n",
    "    data[f'{name} set'] = OrderedDict([(labels[i], c) for i, c in enumerate(counts)])\n",
    "    data[f'{name} set']['total'] = y.shape[0]\n",
    "display(DataFrame(data).T)"
   ]
  },
  {
   "cell_type": "code",
   "execution_count": 6,
   "metadata": {},
   "outputs": [
    {
     "data": {
      "image/png": "[encoded data removed]",
      "text/plain": [
       "<Figure size 1152x360 with 2 Axes>"
      ]
     },
     "metadata": {
      "needs_background": "light"
     },
     "output_type": "display_data"
    }
   ],
   "source": [
    "plt.figure(figsize=(16, 5))\n",
    "for i, (type_, len_fn, range_) in enumerate([\n",
    "        ('words', lambda t: len(t.split()), (0, 1000)),\n",
    "        ('characters', len, (0, 6000))]):\n",
    "    lens = [len_fn(t) for t in (*train_texts, *val_texts, *test_texts)]\n",
    "    plt.subplot(1, 2, i + 1)\n",
    "    plt.hist(lens, bins=20, range=range_)\n",
    "    plt.xlabel(f'number of {type_}')\n",
    "    plt.ylabel('number of reviews')\n",
    "plt.show()"
   ]
  },
  {
   "cell_type": "code",
   "execution_count": 7,
   "metadata": {},
   "outputs": [],
   "source": [
    "models = OrderedDict()"
   ]
  },
  {
   "cell_type": "code",
   "execution_count": 8,
   "metadata": {},
   "outputs": [],
   "source": [
    "class SKLearnClassifier:\n",
    "\n",
    "    def __init__(self, model):\n",
    "        self.vectorizer = CountVectorizer(strip_accents='ascii', lowercase=True)\n",
    "        self.model = model\n",
    "\n",
    "    def fit(self, train_texts, train_y):\n",
    "        start = time.time()\n",
    "        train_x = self.vectorizer.fit_transform(train_texts)\n",
    "        self.model.fit(train_x, train_y)\n",
    "        print(f'Finished training in {time.time() - start:.2f}s')\n",
    "\n",
    "    def predict(self, texts):\n",
    "        x = self.vectorizer.transform(texts)\n",
    "        return self.model.predict(x)"
   ]
  },
  {
   "cell_type": "code",
   "execution_count": 9,
   "metadata": {},
   "outputs": [],
   "source": [
    "models['random forest'] = SKLearnClassifier(\n",
    "    RandomForestClassifier(n_estimators=150, max_depth=25, n_jobs=-1))"
   ]
  },
  {
   "cell_type": "code",
   "execution_count": 10,
   "metadata": {},
   "outputs": [
    {
     "name": "stdout",
     "output_type": "stream",
     "text": [
      "Finished training in 5.14s\n"
     ]
    }
   ],
   "source": [
    "models['random forest'].fit(train_texts, train_y)"
   ]
  },
  {
   "cell_type": "code",
   "execution_count": 11,
   "metadata": {},
   "outputs": [
    {
     "data": {
      "text/html": [
       "<div>\n",
       "<style scoped>\n",
       "    .dataframe tbody tr th:only-of-type {\n",
       "        vertical-align: middle;\n",
       "    }\n",
       "\n",
       "    .dataframe tbody tr th {\n",
       "        vertical-align: top;\n",
       "    }\n",
       "\n",
       "    .dataframe thead th {\n",
       "        text-align: right;\n",
       "    }\n",
       "</style>\n",
       "<table border=\"1\" class=\"dataframe\">\n",
       "  <thead>\n",
       "    <tr style=\"text-align: right;\">\n",
       "      <th></th>\n",
       "      <th>random forest</th>\n",
       "    </tr>\n",
       "  </thead>\n",
       "  <tbody>\n",
       "    <tr>\n",
       "      <th>test set</th>\n",
       "      <td>0.846</td>\n",
       "    </tr>\n",
       "    <tr>\n",
       "      <th>training set</th>\n",
       "      <td>0.956</td>\n",
       "    </tr>\n",
       "    <tr>\n",
       "      <th>validation set</th>\n",
       "      <td>0.850</td>\n",
       "    </tr>\n",
       "  </tbody>\n",
       "</table>\n",
       "</div>"
      ],
      "text/plain": [
       "               random forest\n",
       "test set               0.846\n",
       "training set           0.956\n",
       "validation set         0.850"
      ]
     },
     "metadata": {},
     "output_type": "display_data"
    }
   ],
   "source": [
    "data = OrderedDict()\n",
    "for name, model in models.items():\n",
    "    data[name] = OrderedDict([\n",
    "        ('training set', f'{accuracy_score(train_y, model.predict(train_texts)):.3f}'),\n",
    "        ('validation set', f'{accuracy_score(val_y, model.predict(val_texts)):.3f}'),\n",
    "        ('test set', f'{accuracy_score(test_y, model.predict(test_texts)):.3f}')])\n",
    "display(DataFrame(data))"
   ]
  }
 ],
 "metadata": {
  "kernelspec": {
   "display_name": "Python 3",
   "language": "python",
   "name": "python3"
  },
  "language_info": {
   "codemirror_mode": {
    "name": "ipython",
    "version": 3
   },
   "file_extension": ".py",
   "mimetype": "text/x-python",
   "name": "python",
   "nbconvert_exporter": "python",
   "pygments_lexer": "ipython3",
   "version": "3.7.3"
  }
 },
 "nbformat": 4,
 "nbformat_minor": 2
}
