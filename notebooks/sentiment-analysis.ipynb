{
 "cells": [
  {
   "cell_type": "markdown",
   "metadata": {},
   "source": [
    "# Sentiment analysis"
   ]
  },
  {
   "cell_type": "code",
   "execution_count": 1,
   "metadata": {},
   "outputs": [],
   "source": [
    "import re\n",
    "import time\n",
    "\n",
    "import numpy as np\n",
    "import torchtext\n",
    "from sklearn.ensemble import RandomForestClassifier\n",
    "from sklearn.feature_extraction.text import CountVectorizer\n",
    "from sklearn.metrics import accuracy_score"
   ]
  },
  {
   "cell_type": "code",
   "execution_count": 2,
   "metadata": {},
   "outputs": [],
   "source": [
    "train_data, test_data = torchtext.datasets.IMDB.splits(\n",
    "    torchtext.data.Field(tokenize=lambda s: s),\n",
    "    torchtext.data.Field(tokenize=lambda s: s),\n",
    "    root='../data/imdb')\n",
    "\n",
    "train_texts = [s.text for s in train_data]\n",
    "train_y = np.array([1 if s.label == 'pos' else 0 for s in train_data])\n",
    "\n",
    "test_texts = [s.text for s in test_data]\n",
    "test_y = np.array([1 if s.label == 'pos' else 0 for s in test_data])"
   ]
  },
  {
   "cell_type": "code",
   "execution_count": 3,
   "metadata": {},
   "outputs": [
    {
     "data": {
      "text/plain": [
       "(25000, 25000)"
      ]
     },
     "execution_count": 3,
     "metadata": {},
     "output_type": "execute_result"
    }
   ],
   "source": [
    "len(train_texts), len(test_texts)"
   ]
  },
  {
   "cell_type": "code",
   "execution_count": 4,
   "metadata": {},
   "outputs": [
    {
     "data": {
      "text/plain": [
       "((25000,), (25000,))"
      ]
     },
     "execution_count": 4,
     "metadata": {},
     "output_type": "execute_result"
    }
   ],
   "source": [
    "train_y.shape, test_y.shape"
   ]
  },
  {
   "cell_type": "code",
   "execution_count": 5,
   "metadata": {},
   "outputs": [
    {
     "data": {
      "text/plain": [
       "(array([1, 1, 1, ..., 0, 0, 0]), array([1, 1, 1, ..., 0, 0, 0]))"
      ]
     },
     "execution_count": 5,
     "metadata": {},
     "output_type": "execute_result"
    }
   ],
   "source": [
    "train_y, test_y"
   ]
  },
  {
   "cell_type": "code",
   "execution_count": 6,
   "metadata": {},
   "outputs": [],
   "source": [
    "class SKLearnClassifier:\n",
    "\n",
    "    def __init__(self, model):\n",
    "        self.model = model\n",
    "        self.vectorizer = CountVectorizer()\n",
    "\n",
    "    def fit(self, train_texts, train_y):\n",
    "        start = time.time()\n",
    "        train_texts = [self.preprocess(t) for t in train_texts]\n",
    "        train_x = self.vectorizer.fit_transform(train_texts)\n",
    "        print(train_x.shape)\n",
    "        self.model.fit(train_x, train_y)\n",
    "        print(f'Finished training in {time.time() - start:.2f}s')\n",
    "\n",
    "    def predict(self, texts):\n",
    "        texts = [self.preprocess(t) for t in texts]\n",
    "        x = self.vectorizer.transform(texts)\n",
    "        return self.model.predict(x)\n",
    "\n",
    "    @staticmethod\n",
    "    def preprocess(text):\n",
    "        text = re.sub(r'<br />', ' ', text)\n",
    "        text = re.sub(r'[\\'\\-\\]!\"#()*+,./:;<=>?[^_`{|}~]', ' ', text)\n",
    "        text = re.sub(r'\\s+', ' ', text)\n",
    "        return text.lower()"
   ]
  },
  {
   "cell_type": "code",
   "execution_count": 7,
   "metadata": {},
   "outputs": [
    {
     "name": "stdout",
     "output_type": "stream",
     "text": [
      "The emotional powers and characters of Dominick and Eugene are the things that Hollywood doesn't make anymore. This is one of the most emotional, sensitive, and heart-felt movies that I have ever seen! Roy Liotta, Tom Hulce, and supporting actress Jamie Lee Curtis, deliver Oscar Winning caliber performances! There are not enough words to express how great this movie is. Sure, people who are not into sentimental movies may not care as much as the rest of us about Dominick and Eugene, but for the rest of us, this movie goes right to the heart and sole of compassion and humanity. You will never forget this film, EVER!<br /><br />*****SPOILERS BELOW*****<br /><br />The simple yet eloquent story is masterfully told. Eugene is a med-school intern who faces long hours and a demanding work load at the hospital. His fraternal twin brother Dominick (born 12 minutes earlier) is a little slow and awkward because of brain damage due to a victim of abuse by their father. (A heartbreaking moment when this is found out in the film that will leave you in tears!) Eugene (a.k.a \"Geno\") faces a painful dilemma. He must decide whether to finish medical school, which would mean accepting his residency in another city and leave Dominick (a.k.a \"Nicky\") behind, or forfeit the rest of his education to take care of him. Nicky helps pay his brother's med-school tuition by working as a trash collector.<br /><br />The questions of ethics, morals, and responsibilities are masterfully blended in this landmark movie. Just when Gino thinks Nicky might be making progress toward independence, Dominick turns around and winds up doing things like helping out a drug dealer, or tying to use a faulty cord that he finds at the dump on an electrical appliance.<br /><br />Larry, is \"The Character\" and Nicky's partner on his garbage route who fills gullible Dominick's head with all kinds of stories like Geno and Jennifer (his girlfriend, whom he is tutoring in Clinical Pharmacology) going to Atlantic City and gambling away all their money. But deep down, you can see that Larry cares for him. On their rounds, Nicky also befriends a little boy, whom we find out has also been beaten by his father. An end result is also tragic and the pain that you see on Nicky's face when it happens, speaks volumes.<br /><br />The sensitivity that the two brothers share for each other can not be overstated enough. All Nicky wants to do is be loved and look for acceptance in anyway he can. (i.e he goes to church, loves Hulk Hogan) Geno loves Nicky more than anything in the world. But can his brother become independent enough so that Geno can pursue his dream of becoming a doctor? A brilliant film that should have gotten tons more recognition than it deserved, but unfortunately came out around the same time as Rain Man, which dealt with a similar issue. However, I like Dominick and Eugene better because it has a far stronger emotional component. Be forewarned that this movie is aimed right at the tear-ducts, so have Kleenex handy! What a film!!!!\n"
     ]
    }
   ],
   "source": [
    "print(train_texts[0])"
   ]
  },
  {
   "cell_type": "code",
   "execution_count": 8,
   "metadata": {},
   "outputs": [
    {
     "name": "stdout",
     "output_type": "stream",
     "text": [
      "the emotional powers and characters of dominick and eugene are the things that hollywood doesn t make anymore this is one of the most emotional sensitive and heart felt movies that i have ever seen roy liotta tom hulce and supporting actress jamie lee curtis deliver oscar winning caliber performances there are not enough words to express how great this movie is sure people who are not into sentimental movies may not care as much as the rest of us about dominick and eugene but for the rest of us this movie goes right to the heart and sole of compassion and humanity you will never forget this film ever spoilers below the simple yet eloquent story is masterfully told eugene is a med school intern who faces long hours and a demanding work load at the hospital his fraternal twin brother dominick born 12 minutes earlier is a little slow and awkward because of brain damage due to a victim of abuse by their father a heartbreaking moment when this is found out in the film that will leave you in tears eugene a k a geno faces a painful dilemma he must decide whether to finish medical school which would mean accepting his residency in another city and leave dominick a k a nicky behind or forfeit the rest of his education to take care of him nicky helps pay his brother s med school tuition by working as a trash collector the questions of ethics morals and responsibilities are masterfully blended in this landmark movie just when gino thinks nicky might be making progress toward independence dominick turns around and winds up doing things like helping out a drug dealer or tying to use a faulty cord that he finds at the dump on an electrical appliance larry is the character and nicky s partner on his garbage route who fills gullible dominick s head with all kinds of stories like geno and jennifer his girlfriend whom he is tutoring in clinical pharmacology going to atlantic city and gambling away all their money but deep down you can see that larry cares for him on their rounds nicky also befriends a little boy whom we find out has also been beaten by his father an end result is also tragic and the pain that you see on nicky s face when it happens speaks volumes the sensitivity that the two brothers share for each other can not be overstated enough all nicky wants to do is be loved and look for acceptance in anyway he can i e he goes to church loves hulk hogan geno loves nicky more than anything in the world but can his brother become independent enough so that geno can pursue his dream of becoming a doctor a brilliant film that should have gotten tons more recognition than it deserved but unfortunately came out around the same time as rain man which dealt with a similar issue however i like dominick and eugene better because it has a far stronger emotional component be forewarned that this movie is aimed right at the tear ducts so have kleenex handy what a film \n"
     ]
    }
   ],
   "source": [
    "print(SKLearnClassifier.preprocess(train_texts[0]))"
   ]
  },
  {
   "cell_type": "code",
   "execution_count": 10,
   "metadata": {},
   "outputs": [
    {
     "name": "stdout",
     "output_type": "stream",
     "text": [
      "(25000, 74702)\n",
      "Finished training in 7.45s\n",
      "0.95496\n",
      "0.8468\n"
     ]
    }
   ],
   "source": [
    "model = SKLearnClassifier(\n",
    "    RandomForestClassifier(n_estimators=150, max_depth=25, n_jobs=-1))\n",
    "model.fit(train_texts, train_y)\n",
    "\n",
    "train_preds = model.predict(train_texts)\n",
    "print(accuracy_score(train_y, train_preds))\n",
    "\n",
    "test_preds = model.predict(test_texts)\n",
    "print(accuracy_score(test_y, test_preds))"
   ]
  },
  {
   "cell_type": "code",
   "execution_count": 12,
   "metadata": {},
   "outputs": [
    {
     "data": {
      "text/plain": [
       "74702"
      ]
     },
     "execution_count": 12,
     "metadata": {},
     "output_type": "execute_result"
    }
   ],
   "source": [
    "fns = model.vectorizer.get_feature_names()\n",
    "len(fns)"
   ]
  }
 ],
 "metadata": {
  "kernelspec": {
   "display_name": "Python 3",
   "language": "python",
   "name": "python3"
  },
  "language_info": {
   "codemirror_mode": {
    "name": "ipython",
    "version": 3
   },
   "file_extension": ".py",
   "mimetype": "text/x-python",
   "name": "python",
   "nbconvert_exporter": "python",
   "pygments_lexer": "ipython3",
   "version": "3.7.3"
  }
 },
 "nbformat": 4,
 "nbformat_minor": 2
}
