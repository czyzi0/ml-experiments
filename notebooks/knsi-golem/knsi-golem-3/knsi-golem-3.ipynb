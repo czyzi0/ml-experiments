{
 "cells": [
  {
   "cell_type": "code",
   "execution_count": 1,
   "id": "8654db38",
   "metadata": {},
   "outputs": [
    {
     "name": "stdout",
     "output_type": "stream",
     "text": [
      "Data already downloaded\n"
     ]
    }
   ],
   "source": [
    "%%bash\n",
    "if [ -d \"data\" ] \n",
    "then\n",
    "    echo \"Data already downloaded\"\n",
    "else\n",
    "    kaggle competitions download -c knsi-golem-3\n",
    "    mkdir \"data\"\n",
    "    unzip knsi-golem-3.zip -d \"data\"\n",
    "    rm knsi-golem-3.zip\n",
    "    echo \"Data downloaded\"\n",
    "fi"
   ]
  },
  {
   "cell_type": "code",
   "execution_count": 2,
   "id": "e6189aaf",
   "metadata": {},
   "outputs": [],
   "source": [
    "import time\n",
    "\n",
    "import matplotlib.pyplot as plt\n",
    "import numpy as np\n",
    "import pandas as pd\n",
    "from sklearn.ensemble import RandomForestRegressor\n",
    "from sklearn.impute import SimpleImputer\n",
    "from sklearn.model_selection import cross_val_score"
   ]
  },
  {
   "cell_type": "markdown",
   "id": "90541c05",
   "metadata": {},
   "source": [
    "## Load data"
   ]
  },
  {
   "cell_type": "code",
   "execution_count": 3,
   "id": "76f616c7",
   "metadata": {},
   "outputs": [],
   "source": [
    "train_df = pd.read_csv('data/train.csv', index_col=0)\n",
    "test_df = pd.read_csv('data/test.csv', index_col=0)"
   ]
  },
  {
   "cell_type": "markdown",
   "id": "e3089ee7",
   "metadata": {},
   "source": [
    "## Prepare labels"
   ]
  },
  {
   "cell_type": "code",
   "execution_count": 4,
   "id": "c7cd62da",
   "metadata": {},
   "outputs": [],
   "source": [
    "train_y = train_df['num_sold'].to_numpy()"
   ]
  },
  {
   "cell_type": "code",
   "execution_count": 5,
   "id": "588abd1a",
   "metadata": {},
   "outputs": [
    {
     "name": "stdout",
     "output_type": "stream",
     "text": [
      "[ 4. 13.  0. ...  0.  1.  0.]\n",
      "(92092,)\n"
     ]
    }
   ],
   "source": [
    "print(train_y)\n",
    "print(train_y.shape)"
   ]
  },
  {
   "cell_type": "code",
   "execution_count": 6,
   "id": "911dffad",
   "metadata": {},
   "outputs": [
    {
     "data": {
      "image/png": "[encoded data removed]",
      "text/plain": [
       "<Figure size 432x288 with 1 Axes>"
      ]
     },
     "metadata": {
      "needs_background": "light"
     },
     "output_type": "display_data"
    }
   ],
   "source": [
    "plt.figure()\n",
    "plt.hist(train_y, bins=25, range=(0, 50))\n",
    "plt.xlabel('Number sold')\n",
    "plt.ylabel('#')\n",
    "plt.show()"
   ]
  },
  {
   "cell_type": "markdown",
   "id": "b26883d1",
   "metadata": {},
   "source": [
    "## Preprocess data"
   ]
  },
  {
   "cell_type": "markdown",
   "id": "0b428e52",
   "metadata": {},
   "source": [
    "### Utilities"
   ]
  },
  {
   "cell_type": "code",
   "execution_count": 7,
   "id": "f3d2fdd6",
   "metadata": {},
   "outputs": [],
   "source": [
    "class Vectorizer:\n",
    "\n",
    "    def __init__(self, cat_min_count=40):\n",
    "        self.cat_cols = ['game_type', 'category', 'mechanic']\n",
    "        self.cat_min_count = cat_min_count\n",
    "        self.cat2id = {}\n",
    "\n",
    "        self.cont_cols = [\n",
    "            'year', 'min_players', 'max_players',\n",
    "            'min_age', 'min_time', 'max_time']\n",
    "        self.imputer = SimpleImputer(\n",
    "            missing_values=np.nan, strategy='mean')\n",
    "\n",
    "    def fit(self, df):\n",
    "        df = df.copy()\n",
    "        \n",
    "        # Categorical\n",
    "        for cat_col in self.cat_cols:\n",
    "            vals = []\n",
    "            for v in df[cat_col].to_numpy():\n",
    "                v = str(v)\n",
    "                if v == 'nan':\n",
    "                    continue\n",
    "                vals.extend([v_.strip() for v_ in v.split('|')])\n",
    "            uniq_vals, counts = np.unique(vals, return_counts=True)\n",
    "            uniq_vals = [\n",
    "                v for v, c in zip(uniq_vals, counts)\n",
    "                if c >= self.cat_min_count]\n",
    "            self.cat2id[cat_col] = {\n",
    "                v: i\n",
    "                for i, (v, c) in enumerate(zip(uniq_vals, counts))}\n",
    "\n",
    "        # Continuous\n",
    "        self.imputer.fit(df[self.cont_cols].to_numpy())\n",
    "\n",
    "    def transform(self, df):\n",
    "        df = df.copy()\n",
    "        \n",
    "        # Categorical\n",
    "        cat_data = []\n",
    "        for cat_col in self.cat_cols:\n",
    "            cat_col_data = []\n",
    "            for v in df[cat_col].to_numpy():\n",
    "                v = str(v)\n",
    "                x = np.zeros(len(self.cat2id[cat_col]))\n",
    "                if v != 'nan':\n",
    "                    for v_ in v.split('|'):\n",
    "                        v_ = v_.strip()\n",
    "                        if v_ in self.cat2id[cat_col]:\n",
    "                            x[self.cat2id[cat_col][v_]] = 1\n",
    "                cat_col_data.append(x)\n",
    "            cat_data.append(np.array(cat_col_data))\n",
    "        cat_data = np.concatenate(cat_data, axis=1)\n",
    "\n",
    "        # Continuous\n",
    "        cont_data = self.imputer.transform(\n",
    "            df[self.cont_cols].to_numpy())\n",
    "        \n",
    "        return np.concatenate((cat_data, cont_data), axis=1)"
   ]
  },
  {
   "cell_type": "markdown",
   "id": "2b3a14a8",
   "metadata": {},
   "source": [
    "### Training data"
   ]
  },
  {
   "cell_type": "code",
   "execution_count": 8,
   "id": "874d1ac5",
   "metadata": {},
   "outputs": [],
   "source": [
    "vectorizer = Vectorizer()\n",
    "vectorizer.fit(train_df)"
   ]
  },
  {
   "cell_type": "code",
   "execution_count": 9,
   "id": "0e1dc1fe",
   "metadata": {
    "scrolled": false
   },
   "outputs": [],
   "source": [
    "train_x = vectorizer.transform(train_df)"
   ]
  },
  {
   "cell_type": "code",
   "execution_count": 10,
   "id": "720fd31a",
   "metadata": {},
   "outputs": [
    {
     "name": "stdout",
     "output_type": "stream",
     "text": [
      "[[  0.           0.           0.         ...  10.         120.\n",
      "  120.        ]\n",
      " [  0.           0.           0.         ...   6.          10.\n",
      "   10.        ]\n",
      " [  0.           0.           0.         ...  10.          30.\n",
      "   30.        ]\n",
      " ...\n",
      " [  0.           0.           0.         ...   9.43565307  53.20289258\n",
      "  535.19487137]\n",
      " [  0.           0.           0.         ...   6.          10.\n",
      "   10.        ]\n",
      " [  1.           0.           0.         ...   9.43565307   5.\n",
      "    5.        ]]\n",
      "(92092, 250)\n"
     ]
    }
   ],
   "source": [
    "print(train_x)\n",
    "print(train_x.shape)"
   ]
  },
  {
   "cell_type": "markdown",
   "id": "9525bd7c",
   "metadata": {},
   "source": [
    "### Test data"
   ]
  },
  {
   "cell_type": "code",
   "execution_count": 11,
   "id": "2743ce89",
   "metadata": {},
   "outputs": [],
   "source": [
    "test_x = vectorizer.transform(test_df)"
   ]
  },
  {
   "cell_type": "code",
   "execution_count": 12,
   "id": "e7086841",
   "metadata": {},
   "outputs": [
    {
     "name": "stdout",
     "output_type": "stream",
     "text": [
      "[[ 0.          0.          0.         ... 14.         60.\n",
      "  60.        ]\n",
      " [ 0.          0.          0.         ... 14.         30.\n",
      "  45.        ]\n",
      " [ 0.          0.          0.         ... 14.         15.\n",
      "  30.        ]\n",
      " ...\n",
      " [ 0.          0.          0.         ...  3.         10.\n",
      "  15.        ]\n",
      " [ 0.          0.          0.         ...  9.43565307 30.\n",
      "  30.        ]\n",
      " [ 0.          0.          0.         ... 10.         30.\n",
      "  45.        ]]\n",
      "(10233, 250)\n"
     ]
    }
   ],
   "source": [
    "print(test_x)\n",
    "print(test_x.shape)"
   ]
  },
  {
   "cell_type": "markdown",
   "id": "252c8c8d",
   "metadata": {},
   "source": [
    "## Random forest"
   ]
  },
  {
   "cell_type": "markdown",
   "id": "d1bd41f2",
   "metadata": {},
   "source": [
    "### Cross validation"
   ]
  },
  {
   "cell_type": "code",
   "execution_count": null,
   "id": "82c39b87",
   "metadata": {},
   "outputs": [],
   "source": [
    "n_estimators_ = [192, 256, 320, 384, 448]\n",
    "max_depth_ = [16, 48, 80, 112, 144]\n",
    "\n",
    "scores = np.zeros((len(n_estimators_), len(max_depth_)))"
   ]
  },
  {
   "cell_type": "code",
   "execution_count": null,
   "id": "3d066c64",
   "metadata": {},
   "outputs": [],
   "source": [
    "start = time.time()\n",
    "\n",
    "print('n_estimators\\tmax_depth\\tmse')\n",
    "for yi, ne in enumerate(n_estimators_):\n",
    "    for xi, md in enumerate(max_depth_):\n",
    "        print(f'{ne:>12}\\t{md:>9}\\t', end='')\n",
    "        clf = RandomForestRegressor(n_estimators=ne, max_depth=md, n_jobs=-1)\n",
    "        scores[yi][xi] = np.mean(cross_val_score(clf, train_x, train_y, cv=5))\n",
    "        print(f'{scores[yi][xi]:.6f}')\n",
    "print('----------------------------------------')\n",
    "\n",
    "hours, seconds = divmod(time.time() - start, 3600)\n",
    "minutes, seconds = divmod(seconds, 60)\n",
    "print(f'Finished in {int(hours)}h {int(minutes)}m {int(seconds)}s')"
   ]
  },
  {
   "cell_type": "code",
   "execution_count": null,
   "id": "977c22d0",
   "metadata": {},
   "outputs": [],
   "source": [
    "n_estimators_ = [str(v) for v in n_estimators_]\n",
    "max_depth_ = [str(v) for v in max_depth_]\n",
    "\n",
    "plt.figure()\n",
    "plt.imshow(scores)\n",
    "plt.xlabel('max_depth')\n",
    "plt.xticks(ticks=range(len(max_depth_)), labels=max_depth_)\n",
    "plt.ylabel('n_estimators')\n",
    "plt.yticks(ticks=range(len(n_estimators_)), labels=n_estimators_)\n",
    "plt.colorbar()\n",
    "plt.show()"
   ]
  },
  {
   "cell_type": "markdown",
   "id": "e4d0e51c",
   "metadata": {},
   "source": [
    "### Solution"
   ]
  },
  {
   "cell_type": "code",
   "execution_count": 14,
   "id": "5f283934",
   "metadata": {},
   "outputs": [
    {
     "name": "stderr",
     "output_type": "stream",
     "text": [
      "[Parallel(n_jobs=-1)]: Using backend ThreadingBackend with 6 concurrent workers.\n",
      "[Parallel(n_jobs=-1)]: Done  38 tasks      | elapsed:   30.8s\n",
      "[Parallel(n_jobs=-1)]: Done 188 tasks      | elapsed:  2.3min\n",
      "[Parallel(n_jobs=-1)]: Done 352 out of 352 | elapsed:  4.2min finished\n"
     ]
    },
    {
     "data": {
      "text/plain": [
       "RandomForestRegressor(max_depth=80, n_estimators=352, n_jobs=-1, verbose=1)"
      ]
     },
     "execution_count": 14,
     "metadata": {},
     "output_type": "execute_result"
    }
   ],
   "source": [
    "# Train regressor\n",
    "regr = RandomForestRegressor(\n",
    "    n_estimators=352, max_depth=80, n_jobs=-1, verbose=1)\n",
    "regr.fit(train_x, train_y)"
   ]
  },
  {
   "cell_type": "code",
   "execution_count": 15,
   "id": "bada442d",
   "metadata": {},
   "outputs": [
    {
     "name": "stderr",
     "output_type": "stream",
     "text": [
      "[Parallel(n_jobs=6)]: Using backend ThreadingBackend with 6 concurrent workers.\n",
      "[Parallel(n_jobs=6)]: Done  38 tasks      | elapsed:    0.0s\n",
      "[Parallel(n_jobs=6)]: Done 188 tasks      | elapsed:    0.2s\n",
      "[Parallel(n_jobs=6)]: Done 352 out of 352 | elapsed:    0.3s finished\n"
     ]
    }
   ],
   "source": [
    "# Predict\n",
    "test_y_pred = regr.predict(test_x)"
   ]
  },
  {
   "cell_type": "code",
   "execution_count": 16,
   "id": "2f015712",
   "metadata": {},
   "outputs": [],
   "source": [
    "# Save submission\n",
    "with open('submission.csv', 'w') as fh:\n",
    "    fh.write('id,predicted\\n')\n",
    "    for i, y in enumerate(test_y_pred):\n",
    "        fh.write(f'{i},{y}\\n')"
   ]
  }
 ],
 "metadata": {
  "kernelspec": {
   "display_name": "Python 3",
   "language": "python",
   "name": "python3"
  },
  "language_info": {
   "codemirror_mode": {
    "name": "ipython",
    "version": 3
   },
   "file_extension": ".py",
   "mimetype": "text/x-python",
   "name": "python",
   "nbconvert_exporter": "python",
   "pygments_lexer": "ipython3",
   "version": "3.8.8"
  }
 },
 "nbformat": 4,
 "nbformat_minor": 5
}
